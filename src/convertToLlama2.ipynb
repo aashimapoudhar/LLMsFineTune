{
 "cells": [
  {
   "cell_type": "code",
   "execution_count": 7,
   "metadata": {},
   "outputs": [],
   "source": [
    "import pandas as pd\n",
    "\n",
    "# Load your existing dataset\n",
    "df = pd.read_csv('../data/Multitarget-CONAN-Original.csv')\n",
    "\n",
    "# Create a new column 'text' following the specified structure\n",
    "df['text'] = df.apply(lambda row: f\"###Human:\\ngenerate a counternarrative for {row['HATE_SPEECH']}\\n\\n###\\nAssistant:\\n{row['COUNTER_NARRATIVE']}\", axis=1)\n",
    "\n",
    "# Drop unnecessary columns\n",
    "df.drop(['HATE_SPEECH', 'COUNTER_NARRATIVE', 'TARGET', 'VERSION'], axis=1, inplace=True)\n",
    "\n",
    "# Save the converted dataset\n",
    "df.to_csv('../data/llama2_prompt_dataset.csv', index=False)\n"
   ]
  },
  {
   "cell_type": "code",
   "execution_count": 10,
   "metadata": {},
   "outputs": [],
   "source": [
    "df = pd.read_csv('../data/llama2_prompt_dataset.csv')"
   ]
  },
  {
   "cell_type": "code",
   "execution_count": 11,
   "metadata": {},
   "outputs": [
    {
     "data": {
      "text/html": [
       "<div>\n",
       "<style scoped>\n",
       "    .dataframe tbody tr th:only-of-type {\n",
       "        vertical-align: middle;\n",
       "    }\n",
       "\n",
       "    .dataframe tbody tr th {\n",
       "        vertical-align: top;\n",
       "    }\n",
       "\n",
       "    .dataframe thead th {\n",
       "        text-align: right;\n",
       "    }\n",
       "</style>\n",
       "<table border=\"1\" class=\"dataframe\">\n",
       "  <thead>\n",
       "    <tr style=\"text-align: right;\">\n",
       "      <th></th>\n",
       "      <th>INDEX</th>\n",
       "      <th>text</th>\n",
       "    </tr>\n",
       "  </thead>\n",
       "  <tbody>\n",
       "    <tr>\n",
       "      <th>0</th>\n",
       "      <td>0</td>\n",
       "      <td>###Human:\\ngenerate a counternarrative for May...</td>\n",
       "    </tr>\n",
       "    <tr>\n",
       "      <th>1</th>\n",
       "      <td>1</td>\n",
       "      <td>###Human:\\ngenerate a counternarrative for ‘Ju...</td>\n",
       "    </tr>\n",
       "    <tr>\n",
       "      <th>2</th>\n",
       "      <td>2</td>\n",
       "      <td>###Human:\\ngenerate a counternarrative for For...</td>\n",
       "    </tr>\n",
       "    <tr>\n",
       "      <th>3</th>\n",
       "      <td>3</td>\n",
       "      <td>###Human:\\ngenerate a counternarrative for Jew...</td>\n",
       "    </tr>\n",
       "    <tr>\n",
       "      <th>4</th>\n",
       "      <td>4</td>\n",
       "      <td>###Human:\\ngenerate a counternarrative for Isr...</td>\n",
       "    </tr>\n",
       "  </tbody>\n",
       "</table>\n",
       "</div>"
      ],
      "text/plain": [
       "   INDEX                                               text\n",
       "0      0  ###Human:\\ngenerate a counternarrative for May...\n",
       "1      1  ###Human:\\ngenerate a counternarrative for ‘Ju...\n",
       "2      2  ###Human:\\ngenerate a counternarrative for For...\n",
       "3      3  ###Human:\\ngenerate a counternarrative for Jew...\n",
       "4      4  ###Human:\\ngenerate a counternarrative for Isr..."
      ]
     },
     "execution_count": 11,
     "metadata": {},
     "output_type": "execute_result"
    }
   ],
   "source": [
    "df.head()"
   ]
  },
  {
   "cell_type": "code",
   "execution_count": null,
   "metadata": {},
   "outputs": [],
   "source": []
  }
 ],
 "metadata": {
  "kernelspec": {
   "display_name": "Python 3",
   "language": "python",
   "name": "python3"
  },
  "language_info": {
   "codemirror_mode": {
    "name": "ipython",
    "version": 3
   },
   "file_extension": ".py",
   "mimetype": "text/x-python",
   "name": "python",
   "nbconvert_exporter": "python",
   "pygments_lexer": "ipython3",
   "version": "3.11.5"
  },
  "orig_nbformat": 4,
  "vscode": {
   "interpreter": {
    "hash": "b0fa6594d8f4cbf19f97940f81e996739fb7646882a419484c72d19e05852a7e"
   }
  }
 },
 "nbformat": 4,
 "nbformat_minor": 2
}
